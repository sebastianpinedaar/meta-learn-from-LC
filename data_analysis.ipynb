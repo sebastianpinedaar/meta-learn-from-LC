{
 "cells": [
  {
   "cell_type": "code",
   "execution_count": 37,
   "id": "08e1bacb",
   "metadata": {},
   "outputs": [],
   "source": [
    "import json\n",
    "import numpy as np"
   ]
  },
  {
   "cell_type": "code",
   "execution_count": 2,
   "id": "d56771a9",
   "metadata": {},
   "outputs": [],
   "source": [
    "with open(\"data_best_time.json\") as f:\n",
    "    data = json.load(f)"
   ]
  },
  {
   "cell_type": "code",
   "execution_count": 3,
   "id": "d59e63f5",
   "metadata": {},
   "outputs": [],
   "source": [
    "X = data[\"X\"]\n",
    "y = data[\"y\"]"
   ]
  },
  {
   "cell_type": "code",
   "execution_count": 5,
   "id": "9d2b7025",
   "metadata": {},
   "outputs": [],
   "source": [
    "from sklearn.ensemble import RandomForestRegressor as RFR"
   ]
  },
  {
   "cell_type": "code",
   "execution_count": 31,
   "id": "ad3d46fb",
   "metadata": {},
   "outputs": [],
   "source": [
    "model = RFR(n_estimators=10)"
   ]
  },
  {
   "cell_type": "code",
   "execution_count": 32,
   "id": "0ec27a40",
   "metadata": {},
   "outputs": [
    {
     "data": {
      "text/plain": [
       "RandomForestRegressor(n_estimators=10)"
      ]
     },
     "execution_count": 32,
     "metadata": {},
     "output_type": "execute_result"
    }
   ],
   "source": [
    "model.fit(X,y)"
   ]
  },
  {
   "cell_type": "code",
   "execution_count": 33,
   "id": "1a9317b1",
   "metadata": {},
   "outputs": [
    {
     "data": {
      "text/plain": [
       "0.7864449404553562"
      ]
     },
     "execution_count": 33,
     "metadata": {},
     "output_type": "execute_result"
    }
   ],
   "source": [
    "model.score(X,y)"
   ]
  },
  {
   "cell_type": "code",
   "execution_count": 34,
   "id": "15556c2a",
   "metadata": {},
   "outputs": [],
   "source": [
    "y_pred = model.predict(X)"
   ]
  },
  {
   "cell_type": "code",
   "execution_count": 35,
   "id": "d54a280c",
   "metadata": {},
   "outputs": [
    {
     "data": {
      "text/plain": [
       "array([128.3, 151.9, 159. , ..., 175.2, 200.8, 153.8])"
      ]
     },
     "execution_count": 35,
     "metadata": {},
     "output_type": "execute_result"
    }
   ],
   "source": [
    "y_pred"
   ]
  },
  {
   "cell_type": "code",
   "execution_count": 50,
   "id": "6f87d683",
   "metadata": {},
   "outputs": [],
   "source": [
    "a=np.corrcoef(np.array(X).T,np.array(y))"
   ]
  },
  {
   "cell_type": "code",
   "execution_count": 52,
   "id": "eb81c8d7",
   "metadata": {},
   "outputs": [
    {
     "data": {
      "text/plain": [
       "29"
      ]
     },
     "execution_count": 52,
     "metadata": {},
     "output_type": "execute_result"
    }
   ],
   "source": [
    "len(X[0])"
   ]
  },
  {
   "cell_type": "code",
   "execution_count": 55,
   "id": "a23d06ef",
   "metadata": {},
   "outputs": [],
   "source": [
    "import matplotlib.pyplot as plt"
   ]
  },
  {
   "cell_type": "code",
   "execution_count": 56,
   "id": "ce8c5aa9",
   "metadata": {},
   "outputs": [
    {
     "data": {
      "text/plain": [
       "<matplotlib.image.AxesImage at 0x7f9669f8d4c0>"
      ]
     },
     "execution_count": 56,
     "metadata": {},
     "output_type": "execute_result"
    },
    {
     "data": {
      "image/png": "[encoded data removed]",
      "text/plain": [
       "<Figure size 432x288 with 1 Axes>"
      ]
     },
     "metadata": {
      "needs_background": "light"
     },
     "output_type": "display_data"
    }
   ],
   "source": [
    "plt.imshow(a)"
   ]
  },
  {
   "cell_type": "code",
   "execution_count": 59,
   "id": "a87769be",
   "metadata": {},
   "outputs": [
    {
     "data": {
      "text/plain": [
       "array([ 0.00613864,  0.01710718, -0.04063716, -0.00876795,  0.0050582 ,\n",
       "        0.04035751, -0.03008667, -0.01052037,  0.03001696, -0.03378931,\n",
       "       -0.02318995,  0.00570647, -0.01698416,  0.0281674 ,  0.02171547,\n",
       "       -0.0382115 ,  0.02128719, -0.0238107 ,  0.00417481, -0.03823597,\n",
       "        0.0551289 ,  0.03297397, -0.04335907,  0.02358226,  0.03471666,\n",
       "       -0.01896834, -0.01105266,  0.01208483, -0.03368593,  1.        ])"
      ]
     },
     "execution_count": 59,
     "metadata": {},
     "output_type": "execute_result"
    }
   ],
   "source": [
    "a[-1,:]"
   ]
  },
  {
   "cell_type": "code",
   "execution_count": null,
   "id": "c02e30a4",
   "metadata": {},
   "outputs": [],
   "source": []
  }
 ],
 "metadata": {
  "kernelspec": {
   "display_name": "Python 3",
   "language": "python",
   "name": "python3"
  },
  "language_info": {
   "codemirror_mode": {
    "name": "ipython",
    "version": 3
   },
   "file_extension": ".py",
   "mimetype": "text/x-python",
   "name": "python",
   "nbconvert_exporter": "python",
   "pygments_lexer": "ipython3",
   "version": "3.8.8"
  }
 },
 "nbformat": 4,
 "nbformat_minor": 5
}
